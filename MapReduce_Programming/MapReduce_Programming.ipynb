{
  "nbformat": 4,
  "nbformat_minor": 0,
  "metadata": {
    "colab": {
      "provenance": []
    },
    "kernelspec": {
      "name": "python3",
      "display_name": "Python 3"
    },
    "language_info": {
      "name": "python"
    }
  },
  "cells": [
    {
      "cell_type": "code",
      "source": [
        "from collections import defaultdict # Provides default values for keys that haven't been set yet\n",
        "\n",
        "# Call logs data\n",
        "call_logs = [\n",
        "    ('user1', 120), #(user_ide, call_duration)\n",
        "    ('user2', 120),\n",
        "    ('user1', 60),\n",
        "    ('user3', 300),\n",
        "    ('user2', 150)\n",
        "]\n",
        "\n",
        "# Create a defaultdict to store total call durations for each user\n",
        "user_call_durations = defaultdict(int)\n",
        "\n",
        "# Iterate through the call logs and aggregate durations\n",
        "for user, duration in call_logs:\n",
        "    user_call_durations[user] += duration\n",
        "\n",
        "# Display the results\n",
        "for user, total_duration in user_call_durations.items():\n",
        "    print(f\"{user}: {total_duration} seconds\")\n"
      ],
      "metadata": {
        "colab": {
          "base_uri": "https://localhost:8080/"
        },
        "id": "lyNgwiHuxy_t",
        "outputId": "e8191645-a945-4fbf-f8cc-ec31e531db73"
      },
      "execution_count": 2,
      "outputs": [
        {
          "output_type": "stream",
          "name": "stdout",
          "text": [
            "user1: 180 seconds\n",
            "user2: 270 seconds\n",
            "user3: 300 seconds\n"
          ]
        }
      ]
    },
    {
      "cell_type": "code",
      "source": [],
      "metadata": {
        "id": "G6Un1v1JyisM"
      },
      "execution_count": null,
      "outputs": []
    }
  ]
}