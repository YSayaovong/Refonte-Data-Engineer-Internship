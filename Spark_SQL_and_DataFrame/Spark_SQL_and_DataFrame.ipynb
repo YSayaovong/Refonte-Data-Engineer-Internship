{
  "nbformat": 4,
  "nbformat_minor": 0,
  "metadata": {
    "colab": {
      "provenance": []
    },
    "kernelspec": {
      "name": "python3",
      "display_name": "Python 3"
    },
    "language_info": {
      "name": "python"
    }
  },
  "cells": [
    {
      "cell_type": "code",
      "execution_count": 2,
      "metadata": {
        "colab": {
          "base_uri": "https://localhost:8080/"
        },
        "id": "FqfR3CAy936l",
        "outputId": "b1a78998-6ed4-4a16-81dc-6a7ee77f9d46"
      },
      "outputs": [
        {
          "output_type": "stream",
          "name": "stdout",
          "text": [
            "Requirement already satisfied: pyspark in /usr/local/lib/python3.10/dist-packages (3.5.3)\n",
            "Requirement already satisfied: py4j==0.10.9.7 in /usr/local/lib/python3.10/dist-packages (from pyspark) (0.10.9.7)\n"
          ]
        }
      ],
      "source": [
        "!pip install pyspark"
      ]
    },
    {
      "cell_type": "code",
      "source": [
        "from pyspark.sql import SparkSession\n",
        "from pyspark.sql.types import StructType, StructField, StringType, IntegerType"
      ],
      "metadata": {
        "id": "Ez2WcVYi-igR"
      },
      "execution_count": 3,
      "outputs": []
    },
    {
      "cell_type": "code",
      "source": [
        "# Entry point to programming with DataFrames and SQL in Spark\n",
        "spark = SparkSession.builder.appName(\"Sales Analysis\").getOrCreate()"
      ],
      "metadata": {
        "id": "dgff0q-G-lCC"
      },
      "execution_count": 4,
      "outputs": []
    },
    {
      "cell_type": "code",
      "source": [
        "# Data given in the code snippet\n",
        "data = [\n",
        "    (\"2024-01-15\", 1, \"Product_A\", 10, 1001),\n",
        "    (\"2024-01-20\", 2, \"Product_B\", 5, 1002),\n",
        "    (\"2024-02-11\", 1, \"Product_A\", 7, 1001),\n",
        "    (\"2024-02-13\", 3, \"Product_C\", 8, 1003),\n",
        "    (\"2024-03-14\", 4, \"Product_D\", 20, 1004),\n",
        "    (\"2024-04-15\", 2, \"Product_B\", 15, 1002),\n",
        "    (\"2024-05-16\", 1, \"Product_A\", 9, 1001),\n",
        "    (\"2024-06-17\", 3, \"Product_C\", 6, 1003),\n",
        "]"
      ],
      "metadata": {
        "id": "EC8NJrjg-m20"
      },
      "execution_count": 5,
      "outputs": []
    },
    {
      "cell_type": "code",
      "source": [
        "# Define schema for the data\n",
        "schema = StructType([\n",
        "    StructField(\"date\", StringType(), True),\n",
        "    StructField(\"store_id\", IntegerType(), True),\n",
        "    StructField(\"product\", StringType(), True),\n",
        "    StructField(\"quantity\", IntegerType(), True),\n",
        "    StructField(\"customer_id\", IntegerType(), True),\n",
        "])"
      ],
      "metadata": {
        "id": "QYrlsx39-pVc"
      },
      "execution_count": 6,
      "outputs": []
    },
    {
      "cell_type": "code",
      "source": [
        "# Create a DataFrame\n",
        "df = spark.createDataFrame(data, schema=schema)"
      ],
      "metadata": {
        "id": "4KIhuNXx-rI-"
      },
      "execution_count": 7,
      "outputs": []
    },
    {
      "cell_type": "code",
      "source": [
        "# Show the DataFrame\n",
        "df.show()"
      ],
      "metadata": {
        "colab": {
          "base_uri": "https://localhost:8080/"
        },
        "id": "8jT4D-Sj-som",
        "outputId": "a8f58ea1-f394-4571-b7b1-bf93b7816b26"
      },
      "execution_count": 8,
      "outputs": [
        {
          "output_type": "stream",
          "name": "stdout",
          "text": [
            "+----------+--------+---------+--------+-----------+\n",
            "|      date|store_id|  product|quantity|customer_id|\n",
            "+----------+--------+---------+--------+-----------+\n",
            "|2024-01-15|       1|Product_A|      10|       1001|\n",
            "|2024-01-20|       2|Product_B|       5|       1002|\n",
            "|2024-02-11|       1|Product_A|       7|       1001|\n",
            "|2024-02-13|       3|Product_C|       8|       1003|\n",
            "|2024-03-14|       4|Product_D|      20|       1004|\n",
            "|2024-04-15|       2|Product_B|      15|       1002|\n",
            "|2024-05-16|       1|Product_A|       9|       1001|\n",
            "|2024-06-17|       3|Product_C|       6|       1003|\n",
            "+----------+--------+---------+--------+-----------+\n",
            "\n"
          ]
        }
      ]
    },
    {
      "cell_type": "code",
      "source": [
        "# Example Analysis\n",
        "# 1. Aggregate total quantity sold per product\n",
        "df.groupBy(\"product\").sum(\"quantity\").alias(\"total_quantity\").show()"
      ],
      "metadata": {
        "colab": {
          "base_uri": "https://localhost:8080/"
        },
        "id": "t_H2fjET-ua8",
        "outputId": "0602728b-d165-4731-d86d-09e51dda9f60"
      },
      "execution_count": 9,
      "outputs": [
        {
          "output_type": "stream",
          "name": "stdout",
          "text": [
            "+---------+-------------+\n",
            "|  product|sum(quantity)|\n",
            "+---------+-------------+\n",
            "|Product_C|           14|\n",
            "|Product_A|           26|\n",
            "|Product_B|           20|\n",
            "|Product_D|           20|\n",
            "+---------+-------------+\n",
            "\n"
          ]
        }
      ]
    },
    {
      "cell_type": "code",
      "source": [
        "# 2. Filter data for a specific product (e.g., \"Product_A\")\n",
        "df.filter(df[\"product\"] == \"Product_A\").show()"
      ],
      "metadata": {
        "colab": {
          "base_uri": "https://localhost:8080/"
        },
        "id": "MiZfC847-wBw",
        "outputId": "745d9d30-af48-426d-b8be-58d1265ebc98"
      },
      "execution_count": 10,
      "outputs": [
        {
          "output_type": "stream",
          "name": "stdout",
          "text": [
            "+----------+--------+---------+--------+-----------+\n",
            "|      date|store_id|  product|quantity|customer_id|\n",
            "+----------+--------+---------+--------+-----------+\n",
            "|2024-01-15|       1|Product_A|      10|       1001|\n",
            "|2024-02-11|       1|Product_A|       7|       1001|\n",
            "|2024-05-16|       1|Product_A|       9|       1001|\n",
            "+----------+--------+---------+--------+-----------+\n",
            "\n"
          ]
        }
      ]
    },
    {
      "cell_type": "code",
      "source": [
        "# 3. Sort data by date\n",
        "df.orderBy(\"date\").show()"
      ],
      "metadata": {
        "colab": {
          "base_uri": "https://localhost:8080/"
        },
        "id": "JIivU02I-x6k",
        "outputId": "51a91d72-9afa-4535-d498-ea78963f3e36"
      },
      "execution_count": 11,
      "outputs": [
        {
          "output_type": "stream",
          "name": "stdout",
          "text": [
            "+----------+--------+---------+--------+-----------+\n",
            "|      date|store_id|  product|quantity|customer_id|\n",
            "+----------+--------+---------+--------+-----------+\n",
            "|2024-01-15|       1|Product_A|      10|       1001|\n",
            "|2024-01-20|       2|Product_B|       5|       1002|\n",
            "|2024-02-11|       1|Product_A|       7|       1001|\n",
            "|2024-02-13|       3|Product_C|       8|       1003|\n",
            "|2024-03-14|       4|Product_D|      20|       1004|\n",
            "|2024-04-15|       2|Product_B|      15|       1002|\n",
            "|2024-05-16|       1|Product_A|       9|       1001|\n",
            "|2024-06-17|       3|Product_C|       6|       1003|\n",
            "+----------+--------+---------+--------+-----------+\n",
            "\n"
          ]
        }
      ]
    },
    {
      "cell_type": "code",
      "source": [
        "# 4. Calculate total sales per store\n",
        "df.groupBy(\"store_id\").sum(\"quantity\").alias(\"total_sales\").show()"
      ],
      "metadata": {
        "colab": {
          "base_uri": "https://localhost:8080/"
        },
        "id": "Q62uIqqp-F6t",
        "outputId": "1ff350e0-1e02-4d99-992a-cb64c196e163"
      },
      "execution_count": 12,
      "outputs": [
        {
          "output_type": "stream",
          "name": "stdout",
          "text": [
            "+--------+-------------+\n",
            "|store_id|sum(quantity)|\n",
            "+--------+-------------+\n",
            "|       1|           26|\n",
            "|       3|           14|\n",
            "|       2|           20|\n",
            "|       4|           20|\n",
            "+--------+-------------+\n",
            "\n"
          ]
        }
      ]
    },
    {
      "cell_type": "code",
      "source": [],
      "metadata": {
        "id": "HRijNFrL-Up0"
      },
      "execution_count": null,
      "outputs": []
    }
  ]
}