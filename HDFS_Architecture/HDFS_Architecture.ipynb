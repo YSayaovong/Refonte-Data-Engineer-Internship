{
  "nbformat": 4,
  "nbformat_minor": 0,
  "metadata": {
    "colab": {
      "provenance": []
    },
    "kernelspec": {
      "name": "python3",
      "display_name": "Python 3"
    },
    "language_info": {
      "name": "python"
    }
  },
  "cells": [
    {
      "cell_type": "code",
      "source": [
        "# Define data blocks\n",
        "data_blocks = [\n",
        "    \"Transaction 1: Deposit $100\",\n",
        "    \"Transaction 2: Withdraw $50\",\n",
        "    \"Transaction 3: Transfer $200\",\n",
        "    \"Transaction 4: Deposit $300\",\n",
        "    \"Transaction 5: Withdraw $100\"\n",
        "]\n",
        "\n",
        "# Simulation of HDFS Storage\n",
        "import random\n",
        "\n",
        "# Simulating data nodes\n",
        "data_nodes = {\n",
        "    \"DataNode 1\": [],\n",
        "    \"DataNode 2\": [],\n",
        "    \"DataNode 3\": [],\n",
        "}\n",
        "\n",
        "# Distributing data blocks\n",
        "for block in data_blocks:  # Iterate over each data block in data_blocks\n",
        "    data_node = random.choice(list(data_nodes.keys()))  # Randomly select one of the DataNodes\n",
        "    data_nodes[data_node].append(block)  # Store the block in the selected DataNode\n",
        "\n",
        "# Display the distributed data\n",
        "print(\"Distributed data:\")\n",
        "for node, blocks in data_nodes.items():  # Iterate over each DataNode\n",
        "    print(f\"{node}: {blocks}\")  # Print the node name and the list of blocks it holds\n",
        "\n",
        "# Simulation of data replication\n",
        "replication_factor = 2  # Defines how many copies we want; in HDFS, the default is usually 3\n",
        "\n",
        "for node in data_nodes:  # Iterate over each DataNode\n",
        "    for block in data_nodes[node]:  # Iterate over each block in the current DataNode\n",
        "        if random.random() < 0.5:  # Generate a random floating-point number between 0.0 and 1.0, check if less than 0.5\n",
        "            # Choose a different node for replication\n",
        "            target_node = random.choice([n for n in data_nodes.keys() if n != node])\n",
        "            # Check if the block is not already in the target node to avoid duplicate replication\n",
        "            if block not in data_nodes[target_node]:\n",
        "                data_nodes[target_node].append(block)  # Append the block to the target node's blocks\n",
        "\n",
        "# Display the data after replication\n",
        "print(\"\\nData after replication:\")\n",
        "for node, blocks in data_nodes.items():  # Iterate over each DataNode\n",
        "    print(f\"{node}: {blocks}\")  # Print the node name and the list of blocks it holds\n",
        "\n",
        "# Simulation of Data Retrieval\n",
        "def retrieve_transaction(transaction):  # Define a function that takes a transaction as input\n",
        "    for node, blocks in data_nodes.items():  # Iterate over each DataNode and its associated blocks\n",
        "        if transaction in blocks:  # Check if the specified transaction is present in the current DataNode's block\n",
        "            return f\"{transaction} found in {node}\"  # Return a success message with the node name\n",
        "    return f\"{transaction} not found\"  # Return a failure message if the transaction is not found\n",
        "\n",
        "# Test data retrieval\n",
        "print(\"\\nTest data retrieval\")\n",
        "print(retrieve_transaction(\"Transaction 2: Withdraw $50\"))\n",
        "print(retrieve_transaction(\"Transaction 6: Deposit $400\"))\n"
      ],
      "metadata": {
        "colab": {
          "base_uri": "https://localhost:8080/"
        },
        "id": "yegTxPnIni-Z",
        "outputId": "226b97ac-3852-47b0-a62f-7c8115ad44f6"
      },
      "execution_count": 13,
      "outputs": [
        {
          "output_type": "stream",
          "name": "stdout",
          "text": [
            "Distributed data:\n",
            "DataNode 1: ['Transaction 2: Withdraw $50', 'Transaction 3: Transfer $200']\n",
            "DataNode 2: ['Transaction 4: Deposit $300', 'Transaction 5: Withdraw $100']\n",
            "DataNode 3: ['Transaction 1: Deposit $100']\n",
            "\n",
            "Data after replication:\n",
            "DataNode 1: ['Transaction 2: Withdraw $50', 'Transaction 3: Transfer $200', 'Transaction 5: Withdraw $100']\n",
            "DataNode 2: ['Transaction 4: Deposit $300', 'Transaction 5: Withdraw $100']\n",
            "DataNode 3: ['Transaction 1: Deposit $100']\n",
            "\n",
            "Test data retrieval\n",
            "Transaction 2: Withdraw $50 found in DataNode 1\n",
            "Transaction 6: Deposit $400 not found\n"
          ]
        }
      ]
    },
    {
      "cell_type": "code",
      "source": [],
      "metadata": {
        "id": "fZb392tls9qY"
      },
      "execution_count": null,
      "outputs": []
    }
  ]
}