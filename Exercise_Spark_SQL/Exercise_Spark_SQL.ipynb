{
  "nbformat": 4,
  "nbformat_minor": 0,
  "metadata": {
    "colab": {
      "provenance": []
    },
    "kernelspec": {
      "name": "python3",
      "display_name": "Python 3"
    },
    "language_info": {
      "name": "python"
    }
  },
  "cells": [
    {
      "cell_type": "code",
      "execution_count": 1,
      "metadata": {
        "colab": {
          "base_uri": "https://localhost:8080/"
        },
        "id": "gk5W4ilY_u-6",
        "outputId": "85c56a3e-23da-46b3-e186-1ad4c21f6635"
      },
      "outputs": [
        {
          "output_type": "stream",
          "name": "stdout",
          "text": [
            "Requirement already satisfied: pyspark in /usr/local/lib/python3.10/dist-packages (3.5.3)\n",
            "Requirement already satisfied: py4j==0.10.9.7 in /usr/local/lib/python3.10/dist-packages (from pyspark) (0.10.9.7)\n"
          ]
        }
      ],
      "source": [
        "!pip install pyspark"
      ]
    },
    {
      "cell_type": "code",
      "source": [
        "from pyspark.sql import SparkSession  # Entry point to start our Spark application\n",
        "from pyspark.sql import functions as F  # Used for data transformations\n",
        "from pyspark.sql.window import Window  # Window functions for partitioning operations on data"
      ],
      "metadata": {
        "id": "Wy2C-qAe_xnu"
      },
      "execution_count": 2,
      "outputs": []
    },
    {
      "cell_type": "code",
      "source": [
        "# Initialize a SparkSession\n",
        "spark = SparkSession.builder.appName(\"Customer Sales Analysis\").getOrCreate()"
      ],
      "metadata": {
        "id": "KlXenC7WAH3s"
      },
      "execution_count": 3,
      "outputs": []
    },
    {
      "cell_type": "code",
      "source": [
        "# Sales data\n",
        "sales_data = [\n",
        "    (\"2024-01-15\", 1, 1, 10, 20.0),\n",
        "    (\"2024-03-14\", 2, 1, 10, 20.0),\n",
        "]"
      ],
      "metadata": {
        "id": "ec11ul96AJfc"
      },
      "execution_count": 4,
      "outputs": []
    },
    {
      "cell_type": "code",
      "source": [
        "# Define schema\n",
        "from pyspark.sql.types import StructType, StructField, StringType, IntegerType, FloatType\n",
        "\n",
        "schema = StructType([\n",
        "    StructField(\"sale_date\", StringType(), True),\n",
        "    StructField(\"store_id\", IntegerType(), True),\n",
        "    StructField(\"product_id\", IntegerType(), True),\n",
        "    StructField(\"quantity\", IntegerType(), True),\n",
        "    StructField(\"price\", FloatType(), True),\n",
        "])"
      ],
      "metadata": {
        "id": "zoWA4-PUAMns"
      },
      "execution_count": 5,
      "outputs": []
    },
    {
      "cell_type": "code",
      "source": [
        "# Create DataFrame\n",
        "sales_df = spark.createDataFrame(sales_data, schema=schema)"
      ],
      "metadata": {
        "id": "l0z44Sh0AOXk"
      },
      "execution_count": 6,
      "outputs": []
    },
    {
      "cell_type": "code",
      "source": [
        "# Show DataFrame\n",
        "sales_df.show()"
      ],
      "metadata": {
        "colab": {
          "base_uri": "https://localhost:8080/"
        },
        "id": "zdbcIIgEAQCE",
        "outputId": "2c8d7b8f-62e5-488d-e2d9-541bb39d93f6"
      },
      "execution_count": 7,
      "outputs": [
        {
          "output_type": "stream",
          "name": "stdout",
          "text": [
            "+----------+--------+----------+--------+-----+\n",
            "| sale_date|store_id|product_id|quantity|price|\n",
            "+----------+--------+----------+--------+-----+\n",
            "|2024-01-15|       1|         1|      10| 20.0|\n",
            "|2024-03-14|       2|         1|      10| 20.0|\n",
            "+----------+--------+----------+--------+-----+\n",
            "\n"
          ]
        }
      ]
    },
    {
      "cell_type": "code",
      "source": [
        "# Add a calculated column for total sales (quantity * price)\n",
        "sales_df = sales_df.withColumn(\"total_sales\", F.col(\"quantity\") * F.col(\"price\"))\n",
        "sales_df.show()"
      ],
      "metadata": {
        "colab": {
          "base_uri": "https://localhost:8080/"
        },
        "id": "Ky-3sgsAARyk",
        "outputId": "e18ce4e4-f9ba-4d6f-b6e1-3ce9e6792c8b"
      },
      "execution_count": 8,
      "outputs": [
        {
          "output_type": "stream",
          "name": "stdout",
          "text": [
            "+----------+--------+----------+--------+-----+-----------+\n",
            "| sale_date|store_id|product_id|quantity|price|total_sales|\n",
            "+----------+--------+----------+--------+-----+-----------+\n",
            "|2024-01-15|       1|         1|      10| 20.0|      200.0|\n",
            "|2024-03-14|       2|         1|      10| 20.0|      200.0|\n",
            "+----------+--------+----------+--------+-----+-----------+\n",
            "\n"
          ]
        }
      ]
    },
    {
      "cell_type": "code",
      "source": [
        "# Aggregate total sales per store\n",
        "sales_by_store = sales_df.groupBy(\"store_id\").agg(F.sum(\"total_sales\").alias(\"total_store_sales\"))\n",
        "sales_by_store.show()"
      ],
      "metadata": {
        "colab": {
          "base_uri": "https://localhost:8080/"
        },
        "id": "uoCn8QLVAUCE",
        "outputId": "6c66b7b6-8565-402c-8c15-fb59938a9f18"
      },
      "execution_count": 9,
      "outputs": [
        {
          "output_type": "stream",
          "name": "stdout",
          "text": [
            "+--------+-----------------+\n",
            "|store_id|total_store_sales|\n",
            "+--------+-----------------+\n",
            "|       1|            200.0|\n",
            "|       2|            200.0|\n",
            "+--------+-----------------+\n",
            "\n"
          ]
        }
      ]
    },
    {
      "cell_type": "code",
      "source": [
        "# Calculate the average sales per product\n",
        "average_sales = sales_df.groupBy(\"product_id\").agg(F.avg(\"total_sales\").alias(\"average_product_sales\"))\n",
        "average_sales.show()"
      ],
      "metadata": {
        "colab": {
          "base_uri": "https://localhost:8080/"
        },
        "id": "txrn7-agAV-0",
        "outputId": "fad461e5-7cd4-4c57-82a5-5f4ec0745568"
      },
      "execution_count": 10,
      "outputs": [
        {
          "output_type": "stream",
          "name": "stdout",
          "text": [
            "+----------+---------------------+\n",
            "|product_id|average_product_sales|\n",
            "+----------+---------------------+\n",
            "|         1|                200.0|\n",
            "+----------+---------------------+\n",
            "\n"
          ]
        }
      ]
    },
    {
      "cell_type": "code",
      "source": [
        "# Sort sales by date\n",
        "sales_sorted = sales_df.orderBy(\"sale_date\")\n",
        "sales_sorted.show()"
      ],
      "metadata": {
        "colab": {
          "base_uri": "https://localhost:8080/"
        },
        "id": "HyHmH4daAYBM",
        "outputId": "463d608d-acc1-473e-b3b0-510fa8c4f6c1"
      },
      "execution_count": 11,
      "outputs": [
        {
          "output_type": "stream",
          "name": "stdout",
          "text": [
            "+----------+--------+----------+--------+-----+-----------+\n",
            "| sale_date|store_id|product_id|quantity|price|total_sales|\n",
            "+----------+--------+----------+--------+-----+-----------+\n",
            "|2024-01-15|       1|         1|      10| 20.0|      200.0|\n",
            "|2024-03-14|       2|         1|      10| 20.0|      200.0|\n",
            "+----------+--------+----------+--------+-----+-----------+\n",
            "\n"
          ]
        }
      ]
    },
    {
      "cell_type": "code",
      "source": [
        "# Use a window function to calculate cumulative sales by store\n",
        "window_spec = Window.partitionBy(\"store_id\").orderBy(\"sale_date\")\n",
        "sales_df = sales_df.withColumn(\"cumulative_sales\", F.sum(\"total_sales\").over(window_spec))\n",
        "sales_df.show()"
      ],
      "metadata": {
        "colab": {
          "base_uri": "https://localhost:8080/"
        },
        "id": "nGLC5tPwAZns",
        "outputId": "582ce46e-3c4b-4914-e2a7-46e5ad3e3ddb"
      },
      "execution_count": 12,
      "outputs": [
        {
          "output_type": "stream",
          "name": "stdout",
          "text": [
            "+----------+--------+----------+--------+-----+-----------+----------------+\n",
            "| sale_date|store_id|product_id|quantity|price|total_sales|cumulative_sales|\n",
            "+----------+--------+----------+--------+-----+-----------+----------------+\n",
            "|2024-01-15|       1|         1|      10| 20.0|      200.0|           200.0|\n",
            "|2024-03-14|       2|         1|      10| 20.0|      200.0|           200.0|\n",
            "+----------+--------+----------+--------+-----+-----------+----------------+\n",
            "\n"
          ]
        }
      ]
    },
    {
      "cell_type": "code",
      "source": [],
      "metadata": {
        "id": "uE7klJ2iAa90"
      },
      "execution_count": null,
      "outputs": []
    }
  ]
}