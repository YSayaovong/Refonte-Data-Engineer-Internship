{
  "nbformat": 4,
  "nbformat_minor": 0,
  "metadata": {
    "colab": {
      "provenance": []
    },
    "kernelspec": {
      "name": "python3",
      "display_name": "Python 3"
    },
    "language_info": {
      "name": "python"
    }
  },
  "cells": [
    {
      "cell_type": "code",
      "execution_count": 5,
      "metadata": {
        "colab": {
          "base_uri": "https://localhost:8080/"
        },
        "id": "gYOv7VWqHUIa",
        "outputId": "1f316e87-0551-46e7-9f32-665fa6ddd4a8"
      },
      "outputs": [
        {
          "output_type": "stream",
          "name": "stdout",
          "text": [
            "Dataset loaded successfully.\n",
            "   PassengerId  Survived  Pclass  \\\n",
            "0            1         0       3   \n",
            "1            2         1       1   \n",
            "2            3         1       3   \n",
            "3            4         1       1   \n",
            "4            5         0       3   \n",
            "\n",
            "                                                Name     Sex   Age  SibSp  \\\n",
            "0                            Braund, Mr. Owen Harris    male  22.0      1   \n",
            "1  Cumings, Mrs. John Bradley (Florence Briggs Th...  female  38.0      1   \n",
            "2                             Heikkinen, Miss. Laina  female  26.0      0   \n",
            "3       Futrelle, Mrs. Jacques Heath (Lily May Peel)  female  35.0      1   \n",
            "4                           Allen, Mr. William Henry    male  35.0      0   \n",
            "\n",
            "   Parch            Ticket     Fare Cabin Embarked  \n",
            "0      0         A/5 21171   7.2500   NaN        S  \n",
            "1      0          PC 17599  71.2833   C85        C  \n",
            "2      0  STON/O2. 3101282   7.9250   NaN        S  \n",
            "3      0            113803  53.1000  C123        S  \n",
            "4      0            373450   8.0500   NaN        S  \n"
          ]
        }
      ],
      "source": [
        "import pandas as pd\n",
        "import requests  # To download dataset from a URL\n",
        "from io import StringIO  # To convert text data into a format that pandas can read\n",
        "\n",
        "# Define a function to extract the dataset\n",
        "def extract():\n",
        "    # URL of the Titanic dataset\n",
        "    url = 'https://raw.githubusercontent.com/datasciencedojo/datasets/master/titanic.csv'\n",
        "\n",
        "    # Use requests to get the raw data from the URL\n",
        "    response = requests.get(url)\n",
        "\n",
        "    # Check if the request was successful\n",
        "    if response.status_code == 200:\n",
        "        # Use StringIO to turn the raw data into a format that pandas can read\n",
        "        data = StringIO(response.text)\n",
        "\n",
        "        # Use pandas to read the data into a DataFrame\n",
        "        df = pd.read_csv(data)\n",
        "        return df\n",
        "    else:\n",
        "        print(f\"Failed to fetch data. HTTP Status Code: {response.status_code}\")\n",
        "        return None\n",
        "\n",
        "# Call the function to test it\n",
        "titanic_df = extract()\n",
        "\n",
        "if titanic_df is not None:\n",
        "    print(\"Dataset loaded successfully.\")\n",
        "    print(titanic_df.head())  # Display the first 5 rows of the dataset\n",
        "else:\n",
        "    print(\"Dataset could not be loaded.\")"
      ]
    }
  ]
}