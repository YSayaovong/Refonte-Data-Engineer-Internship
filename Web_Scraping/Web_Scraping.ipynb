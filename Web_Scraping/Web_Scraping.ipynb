{
  "nbformat": 4,
  "nbformat_minor": 0,
  "metadata": {
    "colab": {
      "provenance": []
    },
    "kernelspec": {
      "name": "python3",
      "display_name": "Python 3"
    },
    "language_info": {
      "name": "python"
    }
  },
  "cells": [
    {
      "cell_type": "markdown",
      "source": [
        "#**Web** **Scraping**"
      ],
      "metadata": {
        "id": "k_RXuc7T97mw"
      }
    },
    {
      "cell_type": "code",
      "execution_count": 1,
      "metadata": {
        "id": "LQvWj5QE8GHj"
      },
      "outputs": [],
      "source": [
        "#import libraries\n",
        "import requests #send HTTP requests and fetch the webpage's HTML content\n",
        "from bs4 import BeautifulSoup #parsh the HTML content"
      ]
    },
    {
      "cell_type": "code",
      "source": [
        "url = 'http://quotes.toscrape.com/' #url of the webpage to scrape"
      ],
      "metadata": {
        "id": "5nx7XgZu8UTd"
      },
      "execution_count": 2,
      "outputs": []
    },
    {
      "cell_type": "code",
      "source": [
        "response = requests.get(url) #send a GET request to the URL and store the response"
      ],
      "metadata": {
        "id": "FWpsXkOo8hpL"
      },
      "execution_count": 3,
      "outputs": []
    },
    {
      "cell_type": "code",
      "source": [
        "soup = BeautifulSoup(response.text, 'html.parser') #create a BeautifulSoup object to parse the HTML content"
      ],
      "metadata": {
        "id": "pwvF5FUU8lGT"
      },
      "execution_count": 4,
      "outputs": []
    },
    {
      "cell_type": "code",
      "source": [
        "quotes_data = [] #initialize an empty list where the extracted quotes and authors will be stored"
      ],
      "metadata": {
        "id": "qVSOCy7X8n3j"
      },
      "execution_count": 5,
      "outputs": []
    },
    {
      "cell_type": "code",
      "source": [
        "# Print the extracted data\n",
        "for q in quotes_data:  # Use the correct key 'text'\n",
        "        print(f\"{q['text']} - {q['author']}\")\n",
        "else:\n",
        "    print(f\"Failed to retrieve the webpage. Status code: {response.status_code}\")"
      ],
      "metadata": {
        "colab": {
          "base_uri": "https://localhost:8080/"
        },
        "id": "9Q7-Hg4087Eb",
        "outputId": "a2f20270-6eaa-48a8-8921-c86f3ff3d1e0"
      },
      "execution_count": 13,
      "outputs": [
        {
          "output_type": "stream",
          "name": "stdout",
          "text": [
            "“The world as we have created it is a process of our thinking. It cannot be changed without changing our thinking.” - Albert Einstein\n",
            "“It is our choices, Harry, that show what we truly are, far more than our abilities.” - J.K. Rowling\n",
            "“There are only two ways to live your life. One is as though nothing is a miracle. The other is as though everything is a miracle.” - Albert Einstein\n",
            "“The person, be it gentleman or lady, who has not pleasure in a good novel, must be intolerably stupid.” - Jane Austen\n",
            "“Imperfection is beauty, madness is genius and it's better to be absolutely ridiculous than absolutely boring.” - Marilyn Monroe\n",
            "“Try not to become a man of success. Rather become a man of value.” - Albert Einstein\n",
            "“It is better to be hated for what you are than to be loved for what you are not.” - André Gide\n",
            "“I have not failed. I've just found 10,000 ways that won't work.” - Thomas A. Edison\n",
            "“A woman is like a tea bag; you never know how strong it is until it's in hot water.” - Eleanor Roosevelt\n",
            "“A day without sunshine is like, you know, night.” - Steve Martin\n",
            "Failed to retrieve the webpage. Status code: 200\n"
          ]
        }
      ]
    },
    {
      "cell_type": "markdown",
      "source": [
        "#**API Ingestion**"
      ],
      "metadata": {
        "id": "hYWg5xvs-8Vh"
      }
    },
    {
      "cell_type": "code",
      "source": [
        "import requests\n",
        "\n",
        "# Define the API key and city\n",
        "api_key = \"374cddb1c799ca8fc527f914f4ee9567\"  # Replace with your actual API key\n",
        "city = \"Milwaukee,WI,US\"\n",
        "url = f\"http://api.openweathermap.org/data/2.5/weather?q={city}&units=metric&appid={api_key}\"\n",
        "\n",
        "# Send the GET request to the API\n",
        "response = requests.get(url)\n",
        "\n",
        "# Check if the request was successful\n",
        "if response.status_code == 200:\n",
        "    # Parse the JSON response\n",
        "    weather_data = response.json()\n",
        "    print(\"Raw API Response:\", weather_data)\n",
        "\n",
        "    # Extract relevant data\n",
        "    city_name = weather_data.get('name', 'Unknown City')\n",
        "    main_data = weather_data.get('main', {})\n",
        "    temp_celsius = main_data.get('temp', 'N/A')\n",
        "    weather = weather_data.get('weather', [{}])[0]\n",
        "    weather_description = weather.get('description', 'N/A')\n",
        "\n",
        "    # Print extracted information\n",
        "    print(f\"City: {city_name}\")\n",
        "    print(f\"Temperature (Celsius): {temp_celsius}\")\n",
        "    print(f\"Weather Description: {weather_description}\")\n",
        "else:\n",
        "    # Handle failed requests\n",
        "    print(f\"Failed to retrieve data. HTTP Status Code: {response.status_code}\")\n",
        "    print(f\"Response: {response.text}\")\n",
        "\n"
      ],
      "metadata": {
        "colab": {
          "base_uri": "https://localhost:8080/"
        },
        "id": "nFdiHElZIK22",
        "outputId": "c25b285b-aab9-4c77-c34a-9ac74a0556c4"
      },
      "execution_count": 36,
      "outputs": [
        {
          "output_type": "stream",
          "name": "stdout",
          "text": [
            "Raw API Response: {'coord': {'lon': -87.9668, 'lat': 43.0006}, 'weather': [{'id': 804, 'main': 'Clouds', 'description': 'overcast clouds', 'icon': '04n'}], 'base': 'stations', 'main': {'temp': 3.25, 'feels_like': -1.61, 'temp_min': 2.4, 'temp_max': 4.04, 'pressure': 1016, 'humidity': 82, 'sea_level': 1016, 'grnd_level': 989}, 'visibility': 10000, 'wind': {'speed': 6.69, 'deg': 290, 'gust': 13.38}, 'clouds': {'all': 100}, 'dt': 1732585342, 'sys': {'type': 2, 'id': 2081761, 'country': 'US', 'sunrise': 1732539443, 'sunset': 1732573264}, 'timezone': -21600, 'id': 5263058, 'name': 'Milwaukee', 'cod': 200}\n",
            "City: Milwaukee\n",
            "Temperature (Celsius): 3.25\n",
            "Weather Description: overcast clouds\n"
          ]
        }
      ]
    },
    {
      "cell_type": "code",
      "source": [],
      "metadata": {
        "id": "8cGIn2_oISFb"
      },
      "execution_count": null,
      "outputs": []
    }
  ]
}